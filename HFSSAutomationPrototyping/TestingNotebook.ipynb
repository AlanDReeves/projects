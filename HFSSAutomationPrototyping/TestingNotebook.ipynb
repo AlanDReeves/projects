{
 "cells": [
  {
   "cell_type": "code",
   "execution_count": 3,
   "metadata": {},
   "outputs": [
    {
     "ename": "FileNotFoundError",
     "evalue": "[Errno 2] No such file or directory: 'out'",
     "output_type": "error",
     "traceback": [
      "\u001b[1;31m---------------------------------------------------------------------------\u001b[0m",
      "\u001b[1;31mFileNotFoundError\u001b[0m                         Traceback (most recent call last)",
      "Cell \u001b[1;32mIn[3], line 3\u001b[0m\n\u001b[0;32m      1\u001b[0m \u001b[38;5;28;01mimport\u001b[39;00m \u001b[38;5;21;01mpickle\u001b[39;00m\n\u001b[1;32m----> 3\u001b[0m \u001b[38;5;28;01mwith\u001b[39;00m \u001b[38;5;28mopen\u001b[39m(\u001b[38;5;124m\"\u001b[39m\u001b[38;5;124mout\u001b[39m\u001b[38;5;124m\"\u001b[39m, \u001b[38;5;124m\"\u001b[39m\u001b[38;5;124mrb\u001b[39m\u001b[38;5;124m\"\u001b[39m) \u001b[38;5;28;01mas\u001b[39;00m file:\n\u001b[0;32m      4\u001b[0m     variable \u001b[38;5;241m=\u001b[39m pickle\u001b[38;5;241m.\u001b[39mload(file)\n\u001b[0;32m      5\u001b[0m     \u001b[38;5;28;01mfor\u001b[39;00m entry \u001b[38;5;129;01min\u001b[39;00m variable:\n",
      "File \u001b[1;32mc:\\Users\\aland\\anaconda3\\Lib\\site-packages\\IPython\\core\\interactiveshell.py:324\u001b[0m, in \u001b[0;36m_modified_open\u001b[1;34m(file, *args, **kwargs)\u001b[0m\n\u001b[0;32m    317\u001b[0m \u001b[38;5;28;01mif\u001b[39;00m file \u001b[38;5;129;01min\u001b[39;00m {\u001b[38;5;241m0\u001b[39m, \u001b[38;5;241m1\u001b[39m, \u001b[38;5;241m2\u001b[39m}:\n\u001b[0;32m    318\u001b[0m     \u001b[38;5;28;01mraise\u001b[39;00m \u001b[38;5;167;01mValueError\u001b[39;00m(\n\u001b[0;32m    319\u001b[0m         \u001b[38;5;124mf\u001b[39m\u001b[38;5;124m\"\u001b[39m\u001b[38;5;124mIPython won\u001b[39m\u001b[38;5;124m'\u001b[39m\u001b[38;5;124mt let you open fd=\u001b[39m\u001b[38;5;132;01m{\u001b[39;00mfile\u001b[38;5;132;01m}\u001b[39;00m\u001b[38;5;124m by default \u001b[39m\u001b[38;5;124m\"\u001b[39m\n\u001b[0;32m    320\u001b[0m         \u001b[38;5;124m\"\u001b[39m\u001b[38;5;124mas it is likely to crash IPython. If you know what you are doing, \u001b[39m\u001b[38;5;124m\"\u001b[39m\n\u001b[0;32m    321\u001b[0m         \u001b[38;5;124m\"\u001b[39m\u001b[38;5;124myou can use builtins\u001b[39m\u001b[38;5;124m'\u001b[39m\u001b[38;5;124m open.\u001b[39m\u001b[38;5;124m\"\u001b[39m\n\u001b[0;32m    322\u001b[0m     )\n\u001b[1;32m--> 324\u001b[0m \u001b[38;5;28;01mreturn\u001b[39;00m io_open(file, \u001b[38;5;241m*\u001b[39margs, \u001b[38;5;241m*\u001b[39m\u001b[38;5;241m*\u001b[39mkwargs)\n",
      "\u001b[1;31mFileNotFoundError\u001b[0m: [Errno 2] No such file or directory: 'out'"
     ]
    }
   ],
   "source": [
    "import pickle\n",
    "\n",
    "with open(\"out\", \"rb\") as file:\n",
    "    variable = pickle.load(file)\n",
    "    for entry in variable:\n",
    "        print(entry)"
   ]
  },
  {
   "cell_type": "code",
   "execution_count": 43,
   "metadata": {},
   "outputs": [],
   "source": [
    "import pathlib\n",
    "import csv\n",
    "\n",
    "def getParams(location: str):\n",
    "    paramsList = []\n",
    "    with open(pathlib.Path().cwd() / location, 'r') as file:\n",
    "        reader = csv.DictReader(file)\n",
    "        for row in reader:\n",
    "            x = float(row[\"x_coord\"])\n",
    "            y = float(row[\"y_coord\"])\n",
    "            paramsList.append({\"x\": x, \"y\": y})\n",
    "    return paramsList"
   ]
  },
  {
   "cell_type": "code",
   "execution_count": 44,
   "metadata": {},
   "outputs": [
    {
     "data": {
      "text/plain": [
       "[{'x': 1.0, 'y': 2.0},\n",
       " {'x': 3.0, 'y': 4.0},\n",
       " {'x': 5.0, 'y': 6.0},\n",
       " {'x': 7.0, 'y': 8.0}]"
      ]
     },
     "execution_count": 44,
     "metadata": {},
     "output_type": "execute_result"
    }
   ],
   "source": [
    "getParams(\"testInput.csv\")"
   ]
  },
  {
   "cell_type": "code",
   "execution_count": 14,
   "metadata": {},
   "outputs": [],
   "source": [
    "def userInterface():\n",
    "    #TODO error handling\n",
    "    userCheck = \"n\"\n",
    "    UIOutput = []\n",
    "\n",
    "    while userCheck == \"n\":\n",
    "        print(\"X and Y ranges to check for poynting in simulation:\")\n",
    "        minX = int(input(\"enter minimum X value\"))\n",
    "        UIOutput.append(minX)\n",
    "        maxX = int(input(\"enter maximum X value\"))\n",
    "        UIOutput.append(maxX)\n",
    "        minY = int(input(\"enter minimum Y value\"))\n",
    "        UIOutput.append(minY)\n",
    "        maxY = int(input(\"enter maximum Y value\"))\n",
    "        UIOutput.append(maxY)\n",
    "        inputFileName = input(\"Enter name of parameter enter file\")\n",
    "        UIOutput.append(inputFileName)\n",
    "        outputFileName = input(\"Enter desired output file name\")\n",
    "        UIOutput.append(outputFileName)\n",
    "\n",
    "        print(\"inputs were:\")\n",
    "        print(f\"X range: {minX} - {maxX}\")\n",
    "        print(f\"Y range: {minY} - {maxY}\")\n",
    "        print(f\"Input file name: {inputFileName}\")\n",
    "        print(f\"Output file name: {outputFileName}\")\n",
    "        print(\"Is this ok? Enter y or n\")\n",
    "\n",
    "        userCheck = input()\n",
    "\n",
    "    return UIOutput"
   ]
  },
  {
   "cell_type": "code",
   "execution_count": 15,
   "metadata": {},
   "outputs": [
    {
     "name": "stdout",
     "output_type": "stream",
     "text": [
      "X and Y ranges to check for poynting in simulation:\n",
      "inputs were:\n",
      "X range: 0 - 15\n",
      "Y range: 20 - 30\n",
      "Input file name: in\n",
      "Output file name: out\n",
      "Is this ok? Enter y or n\n",
      "X and Y ranges to check for poynting in simulation:\n",
      "inputs were:\n",
      "X range: 4 - 5\n",
      "Y range: 12 - 46\n",
      "Input file name: in\n",
      "Output file name: out\n",
      "Is this ok? Enter y or n\n"
     ]
    },
    {
     "data": {
      "text/plain": [
       "[0, 15, 20, 30, 'in', 'out', 4, 5, 12, 46, 'in', 'out']"
      ]
     },
     "execution_count": 15,
     "metadata": {},
     "output_type": "execute_result"
    }
   ],
   "source": [
    "userInterface()"
   ]
  },
  {
   "cell_type": "code",
   "execution_count": 25,
   "metadata": {},
   "outputs": [],
   "source": [
    "import csv\n",
    "\n",
    "with open('eggs.csv', 'w', newline='') as csvfile:\n",
    "    spamwriter = csv.writer(csvfile, delimiter=' ',\n",
    "                            quotechar='|', quoting=csv.QUOTE_MINIMAL)\n",
    "    spamwriter.writerow(['Spam'] * 5 + ['Baked Beans'])\n",
    "    spamwriter.writerow(['Spam', 'Lovely Spam', 'Wonderful Spam'])"
   ]
  },
  {
   "cell_type": "code",
   "execution_count": 41,
   "metadata": {},
   "outputs": [],
   "source": [
    "with open('test.csv', 'w', newline='') as csvfile:\n",
    "    with open(\"TEST2\", \"rb\") as file:\n",
    "        results = pickle.load(file)\n",
    "        writer = csv.writer(csvfile, delimiter=\",\", quotechar=' ')\n",
    "\n",
    "        writer.writerow([\"Avg \", \"Parameters \", \"Filename \"])\n",
    "        for entry in results:\n",
    "            writer.writerow([entry['Avg'], entry['Parameters'], entry['File Name']])"
   ]
  },
  {
   "cell_type": "code",
   "execution_count": 48,
   "metadata": {},
   "outputs": [
    {
     "name": "stdout",
     "output_type": "stream",
     "text": [
      "X and Y ranges to check for poynting in simulation:\n",
      "inputs were:\n",
      "X range: 0.0 - 10.0\n",
      "Y range: 0.0 - 10.0\n",
      "Input file name: testInput.csv\n",
      "Output file name: out\n",
      "Is this ok? Enter n to re-enter data\n",
      "X and Y ranges to check for poynting in simulation:\n",
      "inputs were:\n",
      "X range: 0.0 - 10.0\n",
      "Y range: 0.0 - 10.0\n",
      "Input file name: in\n",
      "Output file name: out\n",
      "Is this ok? Enter n to re-enter data\n",
      "[0.0, 10.0, 0.0, 10.0, 'in', 'out']\n"
     ]
    }
   ],
   "source": [
    "import HFSSTesting1 as tester\n",
    "\n",
    "print(tester.userInterface())"
   ]
  }
 ],
 "metadata": {
  "kernelspec": {
   "display_name": "base",
   "language": "python",
   "name": "python3"
  },
  "language_info": {
   "codemirror_mode": {
    "name": "ipython",
    "version": 3
   },
   "file_extension": ".py",
   "mimetype": "text/x-python",
   "name": "python",
   "nbconvert_exporter": "python",
   "pygments_lexer": "ipython3",
   "version": "3.11.5"
  }
 },
 "nbformat": 4,
 "nbformat_minor": 2
}
